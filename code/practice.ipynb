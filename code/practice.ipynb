{
 "cells": [
  {
   "cell_type": "code",
   "execution_count": null,
   "metadata": {},
   "outputs": [],
   "source": [
    "import numpy as np\n",
    "\n",
    "def compute_embeddings(model, generator):\n",
    "    embeddings = []\n",
    "    labels = []\n",
    "    for i in range(len(generator)):\n",
    "        batch_x, _ = generator[i]\n",
    "        anchor_embeddings, positive_embeddings, negative_embeddings = model.predict_on_batch(batch_x)\n",
    "        embeddings.append(np.concatenate([anchor_embeddings, positive_embeddings, negative_embeddings], axis=0))\n",
    "        labels.extend(generator.labels[generator.indices[i * generator.batch_size: (i + 1) * generator.batch_size]])\n",
    "    embeddings = np.vstack(embeddings)\n",
    "    labels = np.array(labels)\n",
    "    return embeddings, labels\n",
    "\n",
    "# Compute embeddings for the training set\n",
    "train_embeddings, train_labels = compute_embeddings(model, train_triplet_gen)\n",
    "\n",
    "# For evaluation, you would typically compare these embeddings using a metric like cosine similarity or Euclidean distance.\n",
    "# For simplicity, here we'll just print the shape of the embeddings.\n",
    "print('Train embeddings shape:', train_embeddings.shape)\n",
    "print('Train labels shape:', train_labels.shape)\n"
   ]
  },
  {
   "cell_type": "code",
   "execution_count": 1,
   "metadata": {},
   "outputs": [
    {
     "data": {
      "text/plain": [
       "0"
      ]
     },
     "execution_count": 1,
     "metadata": {},
     "output_type": "execute_result"
    }
   ],
   "source": [
    "from tensorflow.keras import backend as K\n",
    "import gc\n",
    "\n",
    "K.clear_session()\n",
    "gc.collect()"
   ]
  }
 ],
 "metadata": {
  "kernelspec": {
   "display_name": "Python 3",
   "language": "python",
   "name": "python3"
  },
  "language_info": {
   "codemirror_mode": {
    "name": "ipython",
    "version": 3
   },
   "file_extension": ".py",
   "mimetype": "text/x-python",
   "name": "python",
   "nbconvert_exporter": "python",
   "pygments_lexer": "ipython3",
   "version": "3.8.10"
  }
 },
 "nbformat": 4,
 "nbformat_minor": 2
}
