{
 "cells": [
  {
   "cell_type": "code",
   "execution_count": 40,
   "metadata": {},
   "outputs": [],
   "source": [
    "import os\n",
    "from PIL import Image"
   ]
  },
  {
   "cell_type": "code",
   "execution_count": 5,
   "metadata": {},
   "outputs": [
    {
     "name": "stdout",
     "output_type": "stream",
     "text": [
      "Training images shape: (700, 224, 224, 3)\n",
      "Training labels shape: (700,)\n"
     ]
    }
   ],
   "source": [
    "import numpy as np\n",
    "\n",
    "# Parameters\n",
    "num_classes = 7\n",
    "num_samples_per_class = 100\n",
    "image_size = 224\n",
    "channels = 3\n",
    "\n",
    "# Generate dummy image data\n",
    "training_images = np.random.rand(num_classes * num_samples_per_class, image_size, image_size, channels)\n",
    "training_labels = np.repeat(np.arange(num_classes), num_samples_per_class)\n",
    "\n",
    "print(\"Training images shape:\", training_images.shape)\n",
    "print(\"Training labels shape:\", training_labels.shape)"
   ]
  },
  {
   "cell_type": "code",
   "execution_count": 16,
   "metadata": {},
   "outputs": [],
   "source": [
    "batch_size = 32\n",
    "image_size = 224\n",
    "base_dir = 'dummy_dataset'\n",
    "class_folders = sorted(os.listdir(base_dir))"
   ]
  },
  {
   "cell_type": "code",
   "execution_count": 18,
   "metadata": {},
   "outputs": [],
   "source": [
    "image_paths = []\n",
    "labels = []\n",
    "for class_name in class_folders:\n",
    "    class_dir = os.path.join(base_dir, class_name)\n",
    "    for fname in os.listdir(class_dir):\n",
    "        image_paths.append(os.path.join(class_dir, fname))\n",
    "        labels.append(int(class_name))  "
   ]
  },
  {
   "cell_type": "code",
   "execution_count": 45,
   "metadata": {},
   "outputs": [],
   "source": [
    "def _load_image(path):\n",
    "    img = Image.open(path).resize((image_size, image_size))\n",
    "    img = np.array(img) / 255.0  # Normalize image to [0, 1]\n",
    "    return img"
   ]
  },
  {
   "cell_type": "code",
   "execution_count": null,
   "metadata": {},
   "outputs": [],
   "source": [
    "def __getitem__(self, idx):\n",
    "    batch_indices = self.indices[idx * self.batch_size: (idx + 1) * self.batch_size]\n",
    "    batch_x = []\n",
    "    for i in batch_indices:\n",
    "        anchor, positive, negative = self._sample_triplet(i)\n",
    "        batch_x.append([anchor, positive, negative])\n",
    "    batch_x = np.array(batch_x)\n",
    "    return [batch_x[:, 0], batch_x[:, 1], batch_x[:, 2]], None\n",
    "\n",
    "def _sample_triplet(self, index):\n",
    "    anchor_class = self.labels[index]\n",
    "    positive_indices = [i for i, label in enumerate(self.labels) if label == anchor_class and i != index]\n",
    "    if not positive_indices:\n",
    "        raise ValueError(f\"Class {anchor_class} has only one sample.\")\n",
    "    positive_idx = np.random.choice(positive_indices)\n",
    "    \n",
    "    negative_class = np.random.choice(list(set(self.class_folders) - {str(anchor_class)}))\n",
    "    negative_indices = [i for i, label in enumerate(self.labels) if label == int(negative_class)]\n",
    "    negative_idx = np.random.choice(negative_indices)\n",
    "    \n",
    "    anchor = self._load_image(self.image_paths[index])\n",
    "    positive = self._load_image(self.image_paths[positive_idx])\n",
    "    negative = self._load_image(self.image_paths[negative_idx])\n",
    "    \n",
    "    return anchor, positive, negative"
   ]
  },
  {
   "cell_type": "code",
   "execution_count": null,
   "metadata": {},
   "outputs": [],
   "source": [
    "def __getitem__(self, idx):\n",
    "    batch_x = []\n",
    "    for _ in range(self.batch_size):  # Generate `batch_size` number of triplets\n",
    "        anchor, positive, negative = self._sample_triplet()\n",
    "        batch_x.append([anchor, positive, negative])\n",
    "    batch_x = np.array(batch_x)\n",
    "    # Return the triplet images and dummy labels\n",
    "    return [batch_x[:, 0], batch_x[:, 1], batch_x[:, 2]], np.zeros((self.batch_size, 1))\n",
    "\n",
    "def _sample_triplet(self):\n",
    "    # Sample a triplet: anchor, positive (same class as anchor), negative (different class)\n",
    "    anchor_class = np.random.choice(self.class_folders)\n",
    "    \n",
    "    # Create a temporary list to exclude the anchor class\n",
    "    remaining_classes = list(set(self.class_folders) - {anchor_class})\n",
    "    negative_class = np.random.choice(remaining_classes)\n",
    "    \n",
    "    # Sample two distinct indices from the same class for anchor and positive\n",
    "    anchor_idx, positive_idx = np.random.choice(\n",
    "        [i for i, label in enumerate(self.labels) if label == int(anchor_class)], 2, replace=False)\n",
    "    # Sample one index from a different class for negative\n",
    "    negative_idx = np.random.choice(\n",
    "        [i for i, label in enumerate(self.labels) if label == int(negative_class)], 1)[0]\n",
    "    \n",
    "    anchor = self._load_image(self.image_paths[anchor_idx])\n",
    "    positive = self._load_image(self.image_paths[positive_idx])\n",
    "    negative = self._load_image(self.image_paths[negative_idx])\n",
    "    \n",
    "    return anchor, positive, negative"
   ]
  },
  {
   "cell_type": "code",
   "execution_count": 48,
   "metadata": {},
   "outputs": [],
   "source": [
    "anchor_class = np.random.choice(class_folders)\n",
    "negative_class = np.random.choice( list(set(class_folders) - {anchor_class}))\n",
    "\n",
    "anchor_idx, positive_idx = np.random.choice(\n",
    "    [i for i, label in enumerate(labels) if label == int(anchor_class)], 2, replace=False)\n",
    "negative_idx = np.random.choice(\n",
    "    [i for i, label in enumerate(labels) if label == int(negative_class)], 1)[0]\n",
    "\n",
    "anchor = _load_image(image_paths[anchor_idx])\n",
    "positive = _load_image(image_paths[positive_idx])\n",
    "negative = _load_image(image_paths[negative_idx])"
   ]
  },
  {
   "cell_type": "code",
   "execution_count": 58,
   "metadata": {},
   "outputs": [
    {
     "data": {
      "text/plain": [
       "(3, 3, 224, 224, 3)"
      ]
     },
     "execution_count": 58,
     "metadata": {},
     "output_type": "execute_result"
    }
   ],
   "source": [
    "batch_x = np.array(batch_x)"
   ]
  },
  {
   "cell_type": "code",
   "execution_count": 69,
   "metadata": {},
   "outputs": [],
   "source": [
    "batch_x = np.array(batch_x)"
   ]
  },
  {
   "cell_type": "code",
   "execution_count": 70,
   "metadata": {},
   "outputs": [
    {
     "data": {
      "text/plain": [
       "(5, 3, 224, 224, 3)"
      ]
     },
     "execution_count": 70,
     "metadata": {},
     "output_type": "execute_result"
    }
   ],
   "source": [
    "batch_x.shape"
   ]
  },
  {
   "cell_type": "code",
   "execution_count": 72,
   "metadata": {},
   "outputs": [
    {
     "data": {
      "text/plain": [
       "(5, 224, 224, 3)"
      ]
     },
     "execution_count": 72,
     "metadata": {},
     "output_type": "execute_result"
    }
   ],
   "source": [
    "batch_x[:, 1].shape"
   ]
  },
  {
   "cell_type": "code",
   "execution_count": 62,
   "metadata": {},
   "outputs": [],
   "source": [
    "batch_x = []"
   ]
  },
  {
   "cell_type": "code",
   "execution_count": 68,
   "metadata": {},
   "outputs": [],
   "source": [
    "batch_x.append([anchor, positive, negative])"
   ]
  },
  {
   "cell_type": "code",
   "execution_count": 64,
   "metadata": {},
   "outputs": [],
   "source": [
    "class_folders.remove(anchor_class)"
   ]
  },
  {
   "cell_type": "code",
   "execution_count": null,
   "metadata": {},
   "outputs": [],
   "source": [
    "batch_x = []\n",
    "for _ in range(batch_size):  # Generate `batch_size` number of triplets\n",
    "    anchor, positive, negative = _sample_triplet()\n",
    "    batch_x.append([anchor, positive, negative])\n",
    "batch_x = np.array(batch_x)"
   ]
  },
  {
   "cell_type": "code",
   "execution_count": null,
   "metadata": {},
   "outputs": [],
   "source": [
    "return [batch_x[:, 0], batch_x[:, 1], batch_x[:, 2]], np.zeros((self.batch_size, 1))"
   ]
  },
  {
   "cell_type": "code",
   "execution_count": 74,
   "metadata": {},
   "outputs": [
    {
     "ename": "NameError",
     "evalue": "name 'input_shape' is not defined",
     "output_type": "error",
     "traceback": [
      "\u001b[0;31m---------------------------------------------------------------------------\u001b[0m",
      "\u001b[0;31mNameError\u001b[0m                                 Traceback (most recent call last)",
      "Input \u001b[0;32mIn [74]\u001b[0m, in \u001b[0;36m<cell line: 0>\u001b[0;34m()\u001b[0m\n\u001b[1;32m      2\u001b[0m \u001b[38;5;28;01mfrom\u001b[39;00m \u001b[38;5;21;01mtensorflow\u001b[39;00m\u001b[38;5;21;01m.\u001b[39;00m\u001b[38;5;21;01mkeras\u001b[39;00m\u001b[38;5;21;01m.\u001b[39;00m\u001b[38;5;21;01mlayers\u001b[39;00m \u001b[38;5;28;01mimport\u001b[39;00m Input, Lambda, Conv2D, MaxPooling2D, Flatten, Dense, concatenate\n\u001b[1;32m      3\u001b[0m \u001b[38;5;28;01mimport\u001b[39;00m \u001b[38;5;21;01mtensorflow\u001b[39;00m\u001b[38;5;21;01m.\u001b[39;00m\u001b[38;5;21;01mkeras\u001b[39;00m\u001b[38;5;21;01m.\u001b[39;00m\u001b[38;5;21;01mbackend\u001b[39;00m \u001b[38;5;28;01mas\u001b[39;00m \u001b[38;5;21;01mK\u001b[39;00m\n\u001b[0;32m----> 5\u001b[0m inputs \u001b[38;5;241m=\u001b[39m Input(shape\u001b[38;5;241m=\u001b[39minput_shape)\n\u001b[1;32m      6\u001b[0m x \u001b[38;5;241m=\u001b[39m Conv2D(\u001b[38;5;241m32\u001b[39m, (\u001b[38;5;241m3\u001b[39m, \u001b[38;5;241m3\u001b[39m), activation\u001b[38;5;241m=\u001b[39m\u001b[38;5;124m'\u001b[39m\u001b[38;5;124mrelu\u001b[39m\u001b[38;5;124m'\u001b[39m)(inputs)\n\u001b[1;32m      7\u001b[0m x \u001b[38;5;241m=\u001b[39m MaxPooling2D((\u001b[38;5;241m2\u001b[39m, \u001b[38;5;241m2\u001b[39m))(x)\n",
      "\u001b[0;31mNameError\u001b[0m: name 'input_shape' is not defined"
     ]
    }
   ],
   "source": [
    "from tensorflow.keras.models import Model\n",
    "from tensorflow.keras.layers import Input, Lambda, Conv2D, MaxPooling2D, Flatten, Dense, concatenate\n",
    "import tensorflow.keras.backend as K\n",
    "\n",
    "inputs = Input(shape=input_shape)\n",
    "x = Conv2D(32, (3, 3), activation='relu')(inputs)\n",
    "x = MaxPooling2D((2, 2))(x)\n",
    "x = Conv2D(64, (3, 3), activation='relu')(x)\n",
    "x = MaxPooling2D((2, 2))(x)\n",
    "x = Flatten()(x)\n",
    "x = Dense(128, activation='relu')(x)\n",
    "model = Model(inputs, x)"
   ]
  },
  {
   "cell_type": "code",
   "execution_count": null,
   "metadata": {},
   "outputs": [],
   "source": [
    "def triplet_loss(y_true, y_pred, alpha=0.2):\n",
    "    total_length = y_pred.shape.as_list()[-1]\n",
    "    anchor_length = total_length // 3\n",
    "    anchor, positive, negative = y_pred[:, 0:anchor_length], y_pred[:, anchor_length:2*anchor_length], y_pred[:, 2*anchor_length:]\n",
    "    \n",
    "    pos_dist = K.sum(K.square(anchor - positive), axis=1)\n",
    "    neg_dist = K.sum(K.square(anchor - negative), axis=1)\n",
    "    \n",
    "    basic_loss = pos_dist - neg_dist + alpha\n",
    "    loss = K.maximum(basic_loss, 0.0)\n",
    "    \n",
    "    return loss"
   ]
  },
  {
   "cell_type": "code",
   "execution_count": null,
   "metadata": {},
   "outputs": [],
   "source": [
    "import tensorflow as tf\n",
    "\n",
    "def triplet_loss(anchor, positive, negative, alpha=0.2):\n",
    "    # Calculate the positive and negative distances\n",
    "    pos_dist = tf.reduce_sum(tf.square(anchor - positive), axis=1)\n",
    "    neg_dist = tf.reduce_sum(tf.square(anchor - negative), axis=1)\n",
    "    \n",
    "    # Calculate the triplet loss\n",
    "    basic_loss = pos_dist - neg_dist + alpha\n",
    "    loss = tf.maximum(basic_loss, 0.0)\n",
    "    \n",
    "    return tf.reduce_mean(loss)\n"
   ]
  }
 ],
 "metadata": {
  "kernelspec": {
   "display_name": "Python 3",
   "language": "python",
   "name": "python3"
  },
  "language_info": {
   "codemirror_mode": {
    "name": "ipython",
    "version": 3
   },
   "file_extension": ".py",
   "mimetype": "text/x-python",
   "name": "python",
   "nbconvert_exporter": "python",
   "pygments_lexer": "ipython3",
   "version": "3.8.10"
  }
 },
 "nbformat": 4,
 "nbformat_minor": 2
}
