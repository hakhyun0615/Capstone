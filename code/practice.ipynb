{
 "cells": [
  {
   "cell_type": "code",
   "execution_count": 2,
   "metadata": {},
   "outputs": [],
   "source": [
    "import os\n",
    "\n",
    "# data\n",
    "DATA = 'cropped_data' # original_data, cropped_data\n",
    "\n",
    "# model\n",
    "MODEL_NAME = 'TripletNet' # InceptionResNet, TripletNet\n",
    "IMAGE_SIZE = 299\n",
    "\n",
    "# hyperparameter\n",
    "EPOCHS = 1000\n",
    "LEARNING_RATE = 0.001\n",
    "BATCH_SIZE = 64 # number of images in a single batch\n",
    "\n",
    "# root path\n",
    "ROOT_PATH = 'C:/Users/USER/Desktop/Git/capstone/Capstone'\n",
    "\n",
    "# train/val data path\n",
    "TRAIN_DATA_PATH = os.path.join(ROOT_PATH, DATA, 'train_data')\n",
    "VAL_DATA_PATH = os.path.join(ROOT_PATH, DATA, 'val_data')\n",
    "\n",
    "# result path\n",
    "RESULT_PATH = os.path.join(ROOT_PATH, 'train_result')\n",
    "EXPERIMENT_PATH = f\"{MODEL_NAME}_{DATA}_{IMAGE_SIZE}_{EPOCHS}_{LEARNING_RATE}_{256}\"\n",
    "RESULT_FILE_PATH = os.path.join(RESULT_PATH, EXPERIMENT_PATH)\n",
    "\n",
    "# tensorboard path\n",
    "TSBOARD_PATH = os.path.join(RESULT_FILE_PATH, 'initial_tensorboard')\n",
    "FINETUNE_TSBOARD_PATH = os.path.join(RESULT_FILE_PATH, 'finetune_tensorboard')\n",
    "\n",
    "# checkpoint path\n",
    "if MODEL_NAME == 'TripletNet':\n",
    "    CHECKPOINT_PATH = os.path.join(RESULT_FILE_PATH, 'initial_checkpoint')\n",
    "    CHECKPOINT_FILE_PATH = os.path.join(CHECKPOINT_PATH, 'checkpoint-{epoch:03d}-{loss:03f}-{val_loss:03f}.weights.h5')\n",
    "    \n",
    "    PRETRAINED_CHECKPOINT_PATH_1 = os.path.join(RESULT_PATH, f'InceptionResNet_{DATA}_{IMAGE_SIZE}_{EPOCHS}_{LEARNING_RATE}_{512}', 'finetune_checkpoint')\n",
    "    PRETRAINED_CHECKPOINT_PATH_2 = os.listdir(PRETRAINED_CHECKPOINT_PATH_1)[-1]\n",
    "    PRETRAINED_CHECKPOINT_PATH = os.path.join(PRETRAINED_CHECKPOINT_PATH_1, PRETRAINED_CHECKPOINT_PATH_2)\n",
    "elif MODEL_NAME == 'InceptionResNet':\n",
    "    CHECKPOINT_PATH = os.path.join(RESULT_FILE_PATH, 'initial_checkpoint')\n",
    "    CHECKPOINT_FILE_PATH = os.path.join(CHECKPOINT_PATH, 'checkpoint-{epoch:03d}-{loss:03f}-{val_loss:03f}-{accuracy:03f}-{val_accuracy:03f}.weights.h5')\n",
    "    FINETUNE_CHECKPOINT_PATH = os.path.join(RESULT_FILE_PATH, 'finetune_checkpoint')\n",
    "    FINETUNE_CHECKPOINT_FILE_PATH = os.path.join(FINETUNE_CHECKPOINT_PATH, 'checkpoint-{epoch:03d}-{loss:03f}-{val_loss:03f}-{accuracy:03f}-{val_accuracy:03f}.weights.h5')"
   ]
  },
  {
   "cell_type": "code",
   "execution_count": 3,
   "metadata": {},
   "outputs": [],
   "source": [
    "from import_data import Import_data, Import_triplet_data\n",
    "train_triplet_generator = Import_triplet_data(TRAIN_DATA_PATH, BATCH_SIZE, IMAGE_SIZE)"
   ]
  },
  {
   "cell_type": "code",
   "execution_count": null,
   "metadata": {},
   "outputs": [],
   "source": []
  }
 ],
 "metadata": {
  "kernelspec": {
   "display_name": "Python 3",
   "language": "python",
   "name": "python3"
  },
  "language_info": {
   "codemirror_mode": {
    "name": "ipython",
    "version": 3
   },
   "file_extension": ".py",
   "mimetype": "text/x-python",
   "name": "python",
   "nbconvert_exporter": "python",
   "pygments_lexer": "ipython3",
   "version": "3.8.10"
  }
 },
 "nbformat": 4,
 "nbformat_minor": 2
}
