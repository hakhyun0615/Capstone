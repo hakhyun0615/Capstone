{
 "cells": [
  {
   "cell_type": "markdown",
   "metadata": {},
   "source": [
    "tensorboard --logdir=\"C:\\Users\\USER\\Desktop\\Git\\capstone\\Capstone\\result\\InceptionResNet_original_data_299_1000_0.0003_128\\tensorboard\\train\""
   ]
  },
  {
   "cell_type": "code",
   "execution_count": null,
   "metadata": {},
   "outputs": [],
   "source": [
    "import numpy as np\n",
    "\n",
    "def compute_embeddings(model, generator):\n",
    "    embeddings = []\n",
    "    labels = []\n",
    "    for i in range(len(generator)):\n",
    "        batch_x, _ = generator[i]\n",
    "        anchor_embeddings, positive_embeddings, negative_embeddings = model.predict_on_batch(batch_x)\n",
    "        embeddings.append(np.concatenate([anchor_embeddings, positive_embeddings, negative_embeddings], axis=0))\n",
    "        labels.extend(generator.labels[generator.indices[i * generator.batch_size: (i + 1) * generator.batch_size]])\n",
    "    embeddings = np.vstack(embeddings)\n",
    "    labels = np.array(labels)\n",
    "    return embeddings, labels\n",
    "\n",
    "# Compute embeddings for the training set\n",
    "train_embeddings, train_labels = compute_embeddings(model, train_triplet_gen)\n",
    "\n",
    "# For evaluation, you would typically compare these embeddings using a metric like cosine similarity or Euclidean distance.\n",
    "# For simplicity, here we'll just print the shape of the embeddings.\n",
    "print('Train embeddings shape:', train_embeddings.shape)\n",
    "print('Train labels shape:', train_labels.shape)\n"
   ]
  },
  {
   "cell_type": "code",
   "execution_count": 1,
   "metadata": {},
   "outputs": [
    {
     "data": {
      "text/plain": [
       "0"
      ]
     },
     "execution_count": 1,
     "metadata": {},
     "output_type": "execute_result"
    }
   ],
   "source": [
    "from tensorflow.keras import backend as K\n",
    "import gc\n",
    "\n",
    "K.clear_session()\n",
    "gc.collect()"
   ]
  },
  {
   "cell_type": "code",
   "execution_count": 3,
   "metadata": {},
   "outputs": [
    {
     "name": "stdout",
     "output_type": "stream",
     "text": [
      "Sample dataset created at: C:/Users/USER/Desktop/Git/capstone/Capstone\\original_data\\sample_train_data\n",
      "Sample dataset created at: C:/Users/USER/Desktop/Git/capstone/Capstone\\original_data\\sample_val_data\n"
     ]
    }
   ],
   "source": [
    "'''\n",
    "Create sample data \n",
    "'''\n",
    "\n",
    "import os\n",
    "import shutil\n",
    "import random\n",
    "from glob import glob\n",
    "\n",
    "def create_sample_dataset(src_dir, dst_dir, sample_size=10):\n",
    "    if not os.path.exists(dst_dir):\n",
    "        os.makedirs(dst_dir)\n",
    "    \n",
    "    for class_dir in os.listdir(src_dir):\n",
    "        class_path = os.path.join(src_dir, class_dir)\n",
    "        if os.path.isdir(class_path):\n",
    "            image_files = glob(os.path.join(class_path, '*.jpg'))\n",
    "            image_files.extend(glob(os.path.join(class_path, '*.png')))\n",
    "            \n",
    "            sample_files = random.sample(image_files, min(sample_size, len(image_files)))\n",
    "            \n",
    "            sample_class_path = os.path.join(dst_dir, class_dir)\n",
    "            if not os.path.exists(sample_class_path):\n",
    "                os.makedirs(sample_class_path)\n",
    "            \n",
    "            for file in sample_files:\n",
    "                shutil.copy(file, sample_class_path)\n",
    "    \n",
    "    print(f\"Sample dataset created at: {dst_dir}\")\n",
    "\n",
    "# 설정된 경로 정보\n",
    "ROOT_PATH = 'C:/Users/USER/Desktop/Git/capstone/Capstone'\n",
    "DATA = 'original_data'\n",
    "TRAIN_DATA_PATH = os.path.join(ROOT_PATH, DATA, 'train_data')\n",
    "VAL_DATA_PATH = os.path.join(ROOT_PATH, DATA, 'val_data')\n",
    "\n",
    "# 샘플 데이터셋 경로\n",
    "SAMPLE_TRAIN_DATA_PATH = os.path.join(ROOT_PATH, DATA, 'sample_train_data')\n",
    "SAMPLE_VAL_DATA_PATH = os.path.join(ROOT_PATH, DATA, 'sample_val_data')\n",
    "\n",
    "# 각 클래스별로 추출할 샘플 이미지 수\n",
    "SAMPLE_SIZE_PER_CLASS = 1000\n",
    "\n",
    "# 샘플 데이터셋 생성\n",
    "create_sample_dataset(TRAIN_DATA_PATH, SAMPLE_TRAIN_DATA_PATH, SAMPLE_SIZE_PER_CLASS)\n",
    "create_sample_dataset(VAL_DATA_PATH, SAMPLE_VAL_DATA_PATH, SAMPLE_SIZE_PER_CLASS)"
   ]
  },
  {
   "cell_type": "code",
   "execution_count": null,
   "metadata": {},
   "outputs": [],
   "source": []
  }
 ],
 "metadata": {
  "kernelspec": {
   "display_name": "Python 3",
   "language": "python",
   "name": "python3"
  },
  "language_info": {
   "codemirror_mode": {
    "name": "ipython",
    "version": 3
   },
   "file_extension": ".py",
   "mimetype": "text/x-python",
   "name": "python",
   "nbconvert_exporter": "python",
   "pygments_lexer": "ipython3",
   "version": "3.8.10"
  }
 },
 "nbformat": 4,
 "nbformat_minor": 2
}
