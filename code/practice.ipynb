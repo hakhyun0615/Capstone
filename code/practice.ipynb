{
 "cells": [
  {
   "cell_type": "markdown",
   "metadata": {},
   "source": [
    "tensorboard --logdir=\"C:\\Users\\USER\\Desktop\\Git\\capstone\\Capstone\\result\\InceptionResNet_original_data_299_1000_0.0003_128\\tensorboard\\train\""
   ]
  },
  {
   "cell_type": "code",
   "execution_count": null,
   "metadata": {},
   "outputs": [],
   "source": [
    "import numpy as np\n",
    "\n",
    "def compute_embeddings(model, generator):\n",
    "    embeddings = []\n",
    "    labels = []\n",
    "    for i in range(len(generator)):\n",
    "        batch_x, _ = generator[i]\n",
    "        anchor_embeddings, positive_embeddings, negative_embeddings = model.predict_on_batch(batch_x)\n",
    "        embeddings.append(np.concatenate([anchor_embeddings, positive_embeddings, negative_embeddings], axis=0))\n",
    "        labels.extend(generator.labels[generator.indices[i * generator.batch_size: (i + 1) * generator.batch_size]])\n",
    "    embeddings = np.vstack(embeddings)\n",
    "    labels = np.array(labels)\n",
    "    return embeddings, labels\n",
    "\n",
    "# Compute embeddings for the training set\n",
    "train_embeddings, train_labels = compute_embeddings(model, train_triplet_gen)\n",
    "\n",
    "# For evaluation, you would typically compare these embeddings using a metric like cosine similarity or Euclidean distance.\n",
    "# For simplicity, here we'll just print the shape of the embeddings.\n",
    "print('Train embeddings shape:', train_embeddings.shape)\n",
    "print('Train labels shape:', train_labels.shape)\n"
   ]
  },
  {
   "cell_type": "code",
   "execution_count": 1,
   "metadata": {},
   "outputs": [
    {
     "name": "stdout",
     "output_type": "stream",
     "text": [
      "The file ../result/InceptionResNet_cropped_data_299_100_0.0003_256/finetune_checkpoint/checkpoint-029-0.772459-1.208163-0.740569-0.563585.weights.h5 exists.\n"
     ]
    }
   ],
   "source": [
    "import os\n",
    "\n",
    "WEIGHT_PATH = '../result/InceptionResNet_cropped_data_299_100_0.0003_256/finetune_checkpoint/checkpoint-029-0.772459-1.208163-0.740569-0.563585.weights.h5'\n",
    "\n",
    "# Check if the file exists\n",
    "if os.path.exists(WEIGHT_PATH):\n",
    "    print(f\"The file {WEIGHT_PATH} exists.\")\n",
    "else:\n",
    "    print(f\"The file {WEIGHT_PATH} does not exist.\")\n"
   ]
  },
  {
   "cell_type": "code",
   "execution_count": null,
   "metadata": {},
   "outputs": [],
   "source": []
  }
 ],
 "metadata": {
  "kernelspec": {
   "display_name": "Python 3",
   "language": "python",
   "name": "python3"
  },
  "language_info": {
   "codemirror_mode": {
    "name": "ipython",
    "version": 3
   },
   "file_extension": ".py",
   "mimetype": "text/x-python",
   "name": "python",
   "nbconvert_exporter": "python",
   "pygments_lexer": "ipython3",
   "version": "3.8.10"
  }
 },
 "nbformat": 4,
 "nbformat_minor": 2
}
