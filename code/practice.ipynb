{
 "cells": [
  {
   "cell_type": "code",
   "execution_count": null,
   "metadata": {},
   "outputs": [],
   "source": [
    "import numpy as np\n",
    "\n",
    "def compute_embeddings(model, generator):\n",
    "    embeddings = []\n",
    "    labels = []\n",
    "    for i in range(len(generator)):\n",
    "        batch_x, _ = generator[i]\n",
    "        anchor_embeddings, positive_embeddings, negative_embeddings = model.predict_on_batch(batch_x)\n",
    "        embeddings.append(np.concatenate([anchor_embeddings, positive_embeddings, negative_embeddings], axis=0))\n",
    "        labels.extend(generator.labels[generator.indices[i * generator.batch_size: (i + 1) * generator.batch_size]])\n",
    "    embeddings = np.vstack(embeddings)\n",
    "    labels = np.array(labels)\n",
    "    return embeddings, labels\n",
    "\n",
    "# Compute embeddings for the training set\n",
    "train_embeddings, train_labels = compute_embeddings(model, train_triplet_gen)\n",
    "\n",
    "# For evaluation, you would typically compare these embeddings using a metric like cosine similarity or Euclidean distance.\n",
    "# For simplicity, here we'll just print the shape of the embeddings.\n",
    "print('Train embeddings shape:', train_embeddings.shape)\n",
    "print('Train labels shape:', train_labels.shape)\n"
   ]
  },
  {
   "cell_type": "code",
   "execution_count": 1,
   "metadata": {},
   "outputs": [
    {
     "data": {
      "text/plain": [
       "0"
      ]
     },
     "execution_count": 1,
     "metadata": {},
     "output_type": "execute_result"
    }
   ],
   "source": [
    "from tensorflow.keras import backend as K\n",
    "import gc\n",
    "\n",
    "K.clear_session()\n",
    "gc.collect()"
   ]
  },
  {
   "cell_type": "code",
   "execution_count": 1,
   "metadata": {},
   "outputs": [
    {
     "name": "stdout",
     "output_type": "stream",
     "text": [
      "Model: \"model\"\n",
      "_________________________________________________________________\n",
      " Layer (type)                Output Shape              Param #   \n",
      "=================================================================\n",
      " input_2 (InputLayer)        [(None, 299, 299, 3)]     0         \n",
      "                                                                 \n",
      " inception_resnet_v2 (Functi  (None, 8, 8, 1536)       54336736  \n",
      " onal)                                                           \n",
      "                                                                 \n",
      " global_average_pooling2d (G  (None, 1536)             0         \n",
      " lobalAveragePooling2D)                                          \n",
      "                                                                 \n",
      " dense (Dense)               (None, 512)               786944    \n",
      "                                                                 \n",
      " dense_1 (Dense)             (None, 7)                 3591      \n",
      "                                                                 \n",
      "=================================================================\n",
      "Total params: 55,127,271\n",
      "Trainable params: 55,066,727\n",
      "Non-trainable params: 60,544\n",
      "_________________________________________________________________\n"
     ]
    }
   ],
   "source": [
    "import tensorflow as tf\n",
    "from tensorflow.keras.layers import Input, Dense, GlobalAveragePooling2D\n",
    "from tensorflow.keras.models import Model\n",
    "\n",
    "base_model = tf.keras.applications.InceptionResNetV2(\n",
    "            input_shape=(299,299,3),\n",
    "            include_top=False,\n",
    "            weights='imagenet'\n",
    "        )\n",
    "        \n",
    "\n",
    "inputs = Input(shape=(299,299,3))\n",
    "x = base_model(inputs, training=False)  # Keep BatchNorm layers in inference mode\n",
    "x = GlobalAveragePooling2D()(x)\n",
    "x = Dense(512, activation='relu')(x)\n",
    "outputs = Dense(7, activation='softmax')(x)\n",
    "\n",
    "model = Model(inputs=inputs, outputs=outputs)\n",
    "\n",
    "model.summary()"
   ]
  },
  {
   "cell_type": "code",
   "execution_count": 4,
   "metadata": {},
   "outputs": [],
   "source": [
    "import tensorflow as tf\n",
    "from tensorflow.keras.layers import Input, Dense, GlobalAveragePooling2D\n",
    "from tensorflow.keras.models import Model\n",
    "\n",
    "class InceptionResNet_model:\n",
    "    def __init__(self, image_size):\n",
    "        self.image_shape = (image_size, image_size, 3)\n",
    "\n",
    "    def configure_model(self, freeze_base_model=True):\n",
    "        base_model = tf.keras.applications.InceptionResNetV2(\n",
    "            input_shape=self.image_shape,\n",
    "            include_top=False,\n",
    "            weights='imagenet'\n",
    "        )\n",
    "        \n",
    "        # Initially freeze the base model\n",
    "        if freeze_base_model:\n",
    "            base_model.trainable = False\n",
    "\n",
    "        inputs = Input(shape=self.image_shape)\n",
    "        x = base_model(inputs, training=False)  # Keep BatchNorm layers in inference mode\n",
    "        x = GlobalAveragePooling2D()(x)\n",
    "        x = Dense(512, activation='relu')(x)\n",
    "        outputs = Dense(7, activation='softmax')(x)\n",
    "\n",
    "        model = Model(inputs=inputs, outputs=outputs)\n",
    "        \n",
    "        return model\n",
    "\n",
    "    def compile_and_train(self, model, train_data, val_data, initial_epochs=10, fine_tune_epochs=10):\n",
    "        # Compile the model for the initial training\n",
    "        model.compile(optimizer='adam', loss='categorical_crossentropy', metrics=['accuracy'])\n",
    "        \n",
    "        # Train the top layers with the base model frozen\n",
    "        model.fit(train_data, validation_data=val_data, epochs=initial_epochs)\n",
    "        \n",
    "        # Unfreeze the base model for fine-tuning\n",
    "        model.layers[1].trainable = True\n",
    "        \n",
    "        # Re-compile the model with a lower learning rate\n",
    "        model.compile(optimizer=tf.keras.optimizers.Adam(learning_rate=1e-5), \n",
    "                      loss='categorical_crossentropy', \n",
    "                      metrics=['accuracy'])\n",
    "        \n",
    "        # Fine-tune the entire model\n",
    "        model.fit(train_data, validation_data=val_data, epochs=fine_tune_epochs)\n",
    "        \n",
    "        return model\n",
    "\n",
    "# Example usage:\n",
    "image_size = 224\n",
    "model_instance = InceptionResNet_model(image_size)\n",
    "model = model_instance.configure_model()\n",
    "\n",
    "# Assuming train_data and val_data are your training and validation data generators\n",
    "train_data = ...  # Define your training data generator\n",
    "val_data = ...  # Define your validation data generator\n",
    "\n",
    "# Compile and train the model\n",
    "trained_model = model_instance.compile_and_train(model, train_data, val_data, initial_epochs=10, fine_tune_epochs=10)\n"
   ]
  }
 ],
 "metadata": {
  "kernelspec": {
   "display_name": "Python 3",
   "language": "python",
   "name": "python3"
  },
  "language_info": {
   "codemirror_mode": {
    "name": "ipython",
    "version": 3
   },
   "file_extension": ".py",
   "mimetype": "text/x-python",
   "name": "python",
   "nbconvert_exporter": "python",
   "pygments_lexer": "ipython3",
   "version": "3.8.10"
  }
 },
 "nbformat": 4,
 "nbformat_minor": 2
}
