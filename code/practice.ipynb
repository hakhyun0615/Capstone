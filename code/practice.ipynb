{
 "cells": [
  {
   "cell_type": "code",
   "execution_count": null,
   "metadata": {},
   "outputs": [],
   "source": [
    "import numpy as np\n",
    "\n",
    "def compute_embeddings(model, generator):\n",
    "    embeddings = []\n",
    "    labels = []\n",
    "    for i in range(len(generator)):\n",
    "        batch_x, _ = generator[i]\n",
    "        anchor_embeddings, positive_embeddings, negative_embeddings = model.predict_on_batch(batch_x)\n",
    "        embeddings.append(np.concatenate([anchor_embeddings, positive_embeddings, negative_embeddings], axis=0))\n",
    "        labels.extend(generator.labels[generator.indices[i * generator.batch_size: (i + 1) * generator.batch_size]])\n",
    "    embeddings = np.vstack(embeddings)\n",
    "    labels = np.array(labels)\n",
    "    return embeddings, labels\n",
    "\n",
    "# Compute embeddings for the training set\n",
    "train_embeddings, train_labels = compute_embeddings(model, train_triplet_gen)\n",
    "\n",
    "# For evaluation, you would typically compare these embeddings using a metric like cosine similarity or Euclidean distance.\n",
    "# For simplicity, here we'll just print the shape of the embeddings.\n",
    "print('Train embeddings shape:', train_embeddings.shape)\n",
    "print('Train labels shape:', train_labels.shape)\n"
   ]
  },
  {
   "cell_type": "code",
   "execution_count": 1,
   "metadata": {},
   "outputs": [
    {
     "data": {
      "text/plain": [
       "0"
      ]
     },
     "execution_count": 1,
     "metadata": {},
     "output_type": "execute_result"
    }
   ],
   "source": [
    "from tensorflow.keras import backend as K\n",
    "import gc\n",
    "\n",
    "K.clear_session()\n",
    "gc.collect()"
   ]
  },
  {
   "cell_type": "code",
   "execution_count": 4,
   "metadata": {},
   "outputs": [],
   "source": [
    "import os\n",
    "# data\n",
    "DATA = 'original_data'\n",
    "\n",
    "# model\n",
    "MODEL_NAME = 'TripletNet'\n",
    "IMAGE_SIZE = 299\n",
    "\n",
    "# hyperparameter\n",
    "EPOCHS = 500\n",
    "LEARNING_RATE = 0.0001\n",
    "BATCH_SIZE = 128\n",
    "\n",
    "# root path\n",
    "ROOT_PATH = 'C:/Users/USER/Desktop/Git/capstone/Capstone'\n",
    "\n",
    "# train/val/test data path\n",
    "TRAIN_DATA_PATH = os.path.join(ROOT_PATH, DATA, 'train_data')\n",
    "VAL_DATA_PATH = os.path.join(ROOT_PATH, DATA, 'val_data')\n",
    "TEST_DATA_PATH = os.path.join(ROOT_PATH, DATA, 'test_data')\n",
    "\n",
    "# result path\n",
    "RESULT_PATH = os.path.join(ROOT_PATH, 'result')\n",
    "EXPERIMENT_PATH = f\"{DATA}_{MODEL_NAME}_{IMAGE_SIZE}_{EPOCHS}_{LEARNING_RATE}_{BATCH_SIZE}\"\n",
    "RESULT_FILE_PATH = os.path.join(RESULT_PATH, EXPERIMENT_PATH)\n",
    "\n",
    "# tensorboard path\n",
    "TSBOARD_PATH = os.path.join(RESULT_FILE_PATH, 'tensorboard')\n",
    "\n",
    "# checkpoint path\n",
    "CHECKPOINT_PATH = os.path.join(RESULT_FILE_PATH, 'checkpoint')\n",
    "CHECKPOINT_FILE_PATH = os.path.join(CHECKPOINT_PATH, 'model-{epoch:03d}-{accuracy:03f}-{val_accuracy:03f}.weights.h5')"
   ]
  },
  {
   "cell_type": "code",
   "execution_count": 5,
   "metadata": {},
   "outputs": [
    {
     "data": {
      "text/plain": [
       "'C:/Users/USER/Desktop/Git/capstone/Capstone\\\\result\\\\original_data_TripletNet_299_500_0.0001_128\\\\checkpoint\\\\model-{epoch:03d}-{accuracy:03f}-{val_accuracy:03f}.weights.h5'"
      ]
     },
     "execution_count": 5,
     "metadata": {},
     "output_type": "execute_result"
    }
   ],
   "source": [
    "CHECKPOINT_FILE_PATH"
   ]
  },
  {
   "cell_type": "code",
   "execution_count": null,
   "metadata": {},
   "outputs": [],
   "source": [
    "def safe_format(filepath, logs):\n",
    "    try:\n",
    "        return filepath.format(epoch=logs.get('epoch', 0), accuracy=logs.get('accuracy', 0), val_accuracy=logs.get('val_accuracy', 0))\n",
    "    except KeyError as e:\n",
    "        raise KeyError(f\"Failed to format this callback filepath: {filepath}. Reason: {e}\")\n",
    "\n",
    "# Using the safe_format function\n",
    "filepath = safe_format(CHECKPOINT_FILE_PATH, logs)"
   ]
  }
 ],
 "metadata": {
  "kernelspec": {
   "display_name": "Python 3",
   "language": "python",
   "name": "python3"
  },
  "language_info": {
   "codemirror_mode": {
    "name": "ipython",
    "version": 3
   },
   "file_extension": ".py",
   "mimetype": "text/x-python",
   "name": "python",
   "nbconvert_exporter": "python",
   "pygments_lexer": "ipython3",
   "version": "3.8.10"
  }
 },
 "nbformat": 4,
 "nbformat_minor": 2
}
